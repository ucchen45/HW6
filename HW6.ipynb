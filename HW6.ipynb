# -*- coding: utf-8 -*-
"""
Created on Sun Oct 22 20:56:05 2023

@author: youxi
"""

print("Hello world")